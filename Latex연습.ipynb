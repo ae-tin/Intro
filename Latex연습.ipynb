{
  "nbformat": 4,
  "nbformat_minor": 0,
  "metadata": {
    "colab": {
      "name": "Latex연습",
      "private_outputs": true,
      "provenance": [],
      "mount_file_id": "1fsInh0HlDAUGAuynnTant3_CGtNTVmlk",
      "authorship_tag": "ABX9TyPe+iqZgFi2O1huqyWwylUW",
      "include_colab_link": true
    },
    "kernelspec": {
      "name": "python3",
      "display_name": "Python 3"
    },
    "language_info": {
      "name": "python"
    },
    "accelerator": "GPU"
  },
  "cells": [
    {
      "cell_type": "markdown",
      "metadata": {
        "id": "view-in-github",
        "colab_type": "text"
      },
      "source": [
        "<a href=\"https://colab.research.google.com/github/ae-tin/Intro/blob/main/Latex%EC%97%B0%EC%8A%B5.ipynb\" target=\"_parent\"><img src=\"https://colab.research.google.com/assets/colab-badge.svg\" alt=\"Open In Colab\"/></a>"
      ]
    },
    {
      "cell_type": "markdown",
      "metadata": {
        "id": "dv_uGdVjKEB-"
      },
      "source": [
        "# 수리통계학 퀴즈 __*Latex*__로 따라하기 "
      ]
    },
    {
      "cell_type": "markdown",
      "metadata": {
        "id": "Bb3jhniyKn0d"
      },
      "source": [
        "#### 1. [5 points] For each of the following, determine the constant $c$ so that $f(x)$ satisfies the conditions of being a $pmf$ or a $pdf$.\n",
        "\n",
        "- (a) $f\\left( x \\right) = \\frac{c}{(x+1)(x+2)}$ , $ x = 0,1,2,\\cdots$  \n",
        "  \n",
        "- (b) $f\\left( x \\right) = cx^{2}e^{-x}$, $0<x<\\infty$"
      ]
    },
    {
      "cell_type": "markdown",
      "metadata": {
        "id": "iFieNOGeKoKv"
      },
      "source": [
        "#### 2. [5 points] The $cdf$ of $X$ is defined as \n",
        "   \n",
        "$F(x) = \\begin{cases}\n",
        "0 & \\text{ if } x<0 \\\\ \n",
        "x^2/4 & \\text{ if } 0\\leq x < 1 \\\\ \n",
        "1/2 & \\text{ if } 1\\leq x < 2 \\\\ \n",
        "x/3 & \\text{ if } 2\\leq x < 3 \\\\ \n",
        "1 & \\text{ if } x\\geq 3 \n",
        "\\end{cases}$  \n",
        "  \n",
        "Find $E(X)$ and $Var(X)$\n"
      ]
    },
    {
      "cell_type": "markdown",
      "metadata": {
        "id": "ucifK3D7YeRg"
      },
      "source": [
        "#### 3. [5 points] Let $X$ be a $N(\\mu, \\sigma^2)$ random variable. Find the mean and variance of $Y = max(\\mu, X)$  .The $pdf$ of $N(\\mu, \\sigma^2)$ is  \n",
        "  \n",
        "$f(x|\\mu,\\sigma) = \\frac{1}{\\sqrt{2\\pi}\\sigma} exp\\left\\{ -\\frac{(x-\\mu)^2}{2\\sigma^2} \\right\\} , -\\infty <x <\\infty, -\\infty <\\mu< \\infty, \\sigma >0. $"
      ]
    },
    {
      "cell_type": "markdown",
      "metadata": {
        "id": "6hQfNq2RYePA"
      },
      "source": [
        "#### 4. [5 points] Find the moment generatng function corresponding to\n",
        "  \n",
        "- $(a)$ $f(x) = \\frac{2x}{c^2} , 0<x<c.   $  \n",
        "  \n",
        "- $(b)$ $P(X=x) = {r+x-1 \\choose x}p^r(1-p)^x , x = 0,1,\\cdots, 0<p<1, r>0$ $an$ $integer.$  "
      ]
    },
    {
      "cell_type": "markdown",
      "metadata": {
        "id": "3suHZZ8hYeL6"
      },
      "source": [
        "#### 5. [5 points] Find the pdf of $Y = X2$ and show that the $pdf$ integrates to 1, where $X$ have $pdf$\n",
        "  \n"
      ]
    },
    {
      "cell_type": "markdown",
      "metadata": {
        "id": "1Xc4SCvfYeJv"
      },
      "source": [
        "$f(x) = \\begin{cases}\n",
        "\\frac{1}{2} & \\text{ if } -1\\leq x < 0 \\\\ \n",
        "\\frac{1}{2}e^{-x} & \\text{ if } x\\geq 0 \n",
        "\\end{cases}$  "
      ]
    },
    {
      "cell_type": "markdown",
      "metadata": {
        "id": "ZtRG1-6gKpHW"
      },
      "source": [
        "[The end]"
      ]
    }
  ]
}